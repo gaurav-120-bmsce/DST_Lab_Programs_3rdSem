{
  "nbformat": 4,
  "nbformat_minor": 0,
  "metadata": {
    "colab": {
      "provenance": []
    },
    "kernelspec": {
      "name": "python3",
      "display_name": "Python 3"
    },
    "language_info": {
      "name": "python"
    }
  },
  "cells": [
    {
      "cell_type": "code",
      "execution_count": null,
      "metadata": {
        "colab": {
          "base_uri": "https://localhost:8080/"
        },
        "id": "GjbZfNhhVduY",
        "outputId": "f9dfec5a-1273-4a5b-a7e2-520131770db2"
      },
      "outputs": [
        {
          "output_type": "stream",
          "name": "stdout",
          "text": [
            "Linked List is empty.\n",
            "20 --> 10 --> 30 --> 50 --> 40 --> \n",
            "\n",
            "10 --> 30 --> 50 --> 40 --> \n",
            "\n",
            "10 --> 30 --> 50 --> \n",
            "\n",
            "10 --> 50 --> "
          ]
        }
      ],
      "source": [
        "# Inserting the node at beginning,\n",
        "class Node:\n",
        "  def __init__(self,data):\n",
        "    self.data = data\n",
        "    self.ref = None\n",
        "class LinkedList:\n",
        "  def __init__(self):\n",
        "    self.head = None\n",
        "  def printLL(self):\n",
        "    if self.head is None:\n",
        "      print(\"Linked List is empty.\")\n",
        "    else:\n",
        "      a = self.head\n",
        "      while a is not None:\n",
        "        print(a.data,\"-->\",end=\" \")\n",
        "        a = a.ref\n",
        "  def add_begin(self,data):\n",
        "    new_node = Node(data)\n",
        "    new_node.ref = self.head\n",
        "    self.head = new_node\n",
        "  def add_end(self,data):\n",
        "    new_node = Node(data)\n",
        "    if self.head is None:\n",
        "      self.head = new_node\n",
        "    else:\n",
        "     temp = self.head\n",
        "    while temp.ref is not None:\n",
        "      temp = temp.ref\n",
        "    temp.ref = new_node\n",
        "  def add_after(self,data,x):\n",
        "    n = self.head\n",
        "    while n is not None:\n",
        "      if(x == n.data):\n",
        "        break\n",
        "      n = n.ref\n",
        "    if n is None:\n",
        "      print(\"Node is not present in Linked List.\")\n",
        "    else:\n",
        "      new_node = Node(data)\n",
        "      new_node.ref = n.ref\n",
        "      n.ref = new_node\n",
        "  def delete_begin(self):\n",
        "    if self.head is None:\n",
        "      print(\"Linked List is empty.\")\n",
        "    else:\n",
        "      temp = self.head.ref\n",
        "      self.head.ref = None\n",
        "      self.head = temp\n",
        "  def delete_end(self):\n",
        "    if self.head is None:\n",
        "      print(\"LInked List is empty.\")\n",
        "    else:\n",
        "      n = self.head\n",
        "      while n.ref.ref is not None:\n",
        "        n = n.ref\n",
        "      n.ref = None\n",
        "  def delete(self,x):\n",
        "    if self.head is None:\n",
        "      print(\"Linked List is empty.\")\n",
        "    else:\n",
        "      n = self.head\n",
        "      while n.ref.data is not x:\n",
        "        n = n.ref\n",
        "      n.ref = n.ref.ref\n",
        "LL1 = LinkedList()\n",
        "LL1.printLL()\n",
        "LL1.add_begin(10)\n",
        "LL1.add_begin(20)\n",
        "LL1.add_end(30)\n",
        "LL1.add_end(40)\n",
        "LL1.add_after(50,30)\n",
        "LL1.printLL()\n",
        "print(\"\\n\")\n",
        "LL1.delete_begin()\n",
        "LL1.printLL()\n",
        "print(\"\\n\")\n",
        "LL1.delete_end()\n",
        "LL1.printLL()\n",
        "print(\"\\n\")\n",
        "LL1.delete(30)\n",
        "LL1.printLL()"
      ]
    }
  ]
}