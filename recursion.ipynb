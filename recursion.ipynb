{
  "nbformat": 4,
  "nbformat_minor": 0,
  "metadata": {
    "colab": {
      "provenance": []
    },
    "kernelspec": {
      "name": "python3",
      "display_name": "Python 3"
    },
    "language_info": {
      "name": "python"
    }
  },
  "cells": [
    {
      "cell_type": "code",
      "execution_count": 7,
      "metadata": {
        "colab": {
          "base_uri": "https://localhost:8080/"
        },
        "id": "G9m7OYo2mLrg",
        "outputId": "72af0056-76ba-42b0-a12b-54ec11929edb"
      },
      "outputs": [
        {
          "output_type": "stream",
          "name": "stdout",
          "text": [
            "Enter the number : 9\n",
            "362880\n"
          ]
        }
      ],
      "source": [
        "def factorial(n):\n",
        "  if(n == 1 or n == 0):\n",
        "    return 1\n",
        "  return n*factorial(n-1)\n",
        "n = int(input(\"Enter the number : \"))\n",
        "print(factorial(n))"
      ]
    },
    {
      "cell_type": "code",
      "source": [
        "def fibonacci(n):\n",
        "  if n<=0:\n",
        "    print(\"Incorrect input\")\n",
        "  if n==1:\n",
        "    return 0\n",
        "  if n==2:\n",
        "    return 1\n",
        "  return fibonacci(n-1)+fibonacci(n-2)\n",
        "print(fibonacci(9))"
      ],
      "metadata": {
        "colab": {
          "base_uri": "https://localhost:8080/"
        },
        "id": "cFjcCE4um7H1",
        "outputId": "354bb540-44e1-466f-cadd-5e7689f21b53"
      },
      "execution_count": 20,
      "outputs": [
        {
          "output_type": "stream",
          "name": "stdout",
          "text": [
            "21\n"
          ]
        }
      ]
    },
    {
      "cell_type": "code",
      "source": [],
      "metadata": {
        "id": "C1FN5ulgs3iz"
      },
      "execution_count": 19,
      "outputs": []
    },
    {
      "cell_type": "code",
      "source": [],
      "metadata": {
        "id": "HA4p_Sl8uief"
      },
      "execution_count": null,
      "outputs": []
    }
  ]
}